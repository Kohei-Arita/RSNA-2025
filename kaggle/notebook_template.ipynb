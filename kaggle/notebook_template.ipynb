{
 "cells": [
  {
   "cell_type": "code",
   "source": "# JSON Serving API実行（競技システム用）\n# このセルは競技システムが実行時に使用\nprint(\"=== JSON Serving API起動 ===\")\nprint(\"STDIN/STDOUT モードで待機中...\")\n\nsys.stdout.reconfigure(line_buffering=True)\n\nfor line in sys.stdin:\n    line = line.strip()\n    if not line:\n        continue\n\n    try:\n        # JSON入力解析\n        payload = json.loads(line)\n        series_id = payload.get(\"SeriesInstanceUID\") or payload.get(\"series_id\")\n\n        # 予測実行\n        predictions = predict_14_labels(gbm, metadata, payload)\n\n        # JSON応答\n        response = {\n            \"SeriesInstanceUID\": series_id,\n            \"predictions\": predictions\n        }\n\n        # STDOUT出力\n        sys.stdout.write(json.dumps(response) + \"\\n\")\n        sys.stdout.flush()\n\n    except Exception as e:\n        # エラー応答\n        error_response = {\n            \"error\": str(e),\n            \"SeriesInstanceUID\": payload.get(\"SeriesInstanceUID\", \"unknown\")\n        }\n        sys.stdout.write(json.dumps(error_response) + \"\\n\")\n        sys.stdout.flush()",
   "metadata": {},
   "execution_count": null,
   "outputs": []
  },
  {
   "cell_type": "code",
   "source": "# モデル読み込みとテスト実行\nprint(\"=== モデル読み込み ===\")\ngbm, metadata = load_model_files()\n\nprint(f\"GBMモデル: {type(gbm)}\")\nprint(f\"メタデータキー: {list(metadata.keys())}\")\nprint(f\"mod_columns: {len(metadata.get('mod_columns', []))} items\")\n\n# テストデータで動作確認\ntest_data = {\n    \"SeriesInstanceUID\": \"test_001\",\n    \"PatientAge\": \"60 - 65\",\n    \"PatientSex\": \"Male\",\n    \"Modality\": \"CT\"\n}\n\nprint(\"\\n=== テスト予測実行 ===\")\npredictions = predict_14_labels(gbm, metadata, test_data)\n\nprint(f\"テストシリーズ: {test_data['SeriesInstanceUID']}\")\nprint(\"予測結果（上位5ラベル）:\")\nfor i, (label, prob) in enumerate(predictions.items()):\n    if i < 5:\n        print(f\"  {label}: {prob:.4f}\")\nprint(\"...\")\nprint(f\"合計ラベル数: {len(predictions)}\")\nprint(f\"Aneurysm Present確率: {predictions['Aneurysm Present']:.4f}\")",
   "metadata": {},
   "execution_count": null,
   "outputs": []
  },
  {
   "cell_type": "code",
   "source": "# ユーティリティ関数定義（kaggle_utilsの主要機能を統合）\n\n# 14ラベル定義\nLABEL_COLS = [\n    'Left Infraclinoid Internal Carotid Artery',\n    'Right Infraclinoid Internal Carotid Artery',\n    'Left Supraclinoid Internal Carotid Artery',\n    'Right Supraclinoid Internal Carotid Artery',\n    'Left Middle Cerebral Artery',\n    'Right Middle Cerebral Artery',\n    'Anterior Communicating Artery',\n    'Left Anterior Cerebral Artery',\n    'Right Anterior Cerebral Artery',\n    'Left Posterior Communicating Artery',\n    'Right Posterior Communicating Artery',\n    'Basilar Tip',\n    'Other Posterior Circulation',\n    'Aneurysm Present'\n]\n\ndef load_model_files():\n    \"\"\"モデルファイルを読み込み\"\"\"\n    # GBMモデル読み込み\n    model_path = os.path.join(MODEL_DIR, \"GBM Baseline.pkl\")\n    with open(model_path, 'rb') as f:\n        gbm = pickle.load(f)\n\n    # メタデータ読み込み\n    metadata_path = os.path.join(MODEL_DIR, \"Complete Workflow Metadata.json\")\n    with open(metadata_path, 'r') as f:\n        metadata = json.load(f)\n\n    return gbm, metadata\n\ndef build_features(series_meta, mod_columns, age_median=60.0):\n    \"\"\"特徴量ベクトル構築\"\"\"\n    # 年齢処理\n    age_str = str(series_meta.get('PatientAge', ''))\n    try:\n        age_val = float(age_str.split(' - ')[0])\n    except:\n        age_val = age_median\n\n    # 性別処理\n    sex_val = 1.0 if series_meta.get('PatientSex', '') == 'Male' else 0.0\n\n    # モダリティone-hot\n    modality = series_meta.get('Modality', '')\n    mod_feats = []\n    for mod_col in mod_columns:\n        mod_feats.append(1.0 if mod_col == f\"mod_{modality}\" else 0.0)\n\n    # 特徴量配列\n    feats = np.array([age_val, sex_val] + mod_feats, dtype=np.float32)\n    return feats.reshape(1, -1)\n\ndef predict_14_labels(gbm, metadata, series_meta):\n    \"\"\"14ラベル予測実行\"\"\"\n    mod_columns = metadata.get('mod_columns', [])\n    age_median = float(metadata.get('age_median', 60.0))\n\n    # 特徴量構築\n    feats = build_features(series_meta, mod_columns, age_median)\n\n    # GBM予測（Aneurysm Presentの確率）\n    presence_prob = float(gbm.predict_proba(feats)[:, 1][0])\n\n    # 全14ラベルに同じ確率を適用（ベースライン実装）\n    predictions = {label: presence_prob for label in LABEL_COLS}\n\n    return predictions\n\nprint(\"=== ユーティリティ関数定義完了 ===\")",
   "metadata": {},
   "execution_count": null,
   "outputs": []
  },
  {
   "cell_type": "markdown",
   "metadata": {},
   "source": "# RSNA-2025 実提出ノートブック (exp0001_baseline)\n\nこのノートブックは学習済みGBMモデル（年齢・性別・モダリティ）から14ラベル予測を実行し、Kaggle競技に提出します。\n\n## 実行手順\n1. 環境セットアップとライブラリ読み込み\n2. モデル読み込みとテスト実行\n3. JSON Serving API 起動（競技システム用）\n\n## 使用データセット\n- exp001-rsna: 学習済みGBMモデルとメタデータ"
  },
  {
   "cell_type": "code",
   "source": "# JSON Serving API実行（競技システム用）\n# このセルは競技システムが実行時に使用\nprint(\"=== JSON Serving API起動 ===\")\nprint(\"STDIN/STDOUT モードで待機中...\")\n\n# Kaggle環境ではsys.stdout.reconfigure()が使えないため削除\n# sys.stdout.reconfigure(line_buffering=True)\n\nfor line in sys.stdin:\n    line = line.strip()\n    if not line:\n        continue\n\n    try:\n        # JSON入力解析\n        payload = json.loads(line)\n        series_id = payload.get(\"SeriesInstanceUID\") or payload.get(\"series_id\")\n\n        # 予測実行\n        predictions = predict_14_labels(gbm, metadata, payload)\n\n        # JSON応答\n        response = {\n            \"SeriesInstanceUID\": series_id,\n            \"predictions\": predictions\n        }\n\n        # STDOUT出力（flushで即座に出力）\n        print(json.dumps(response))\n        sys.stdout.flush()\n\n    except Exception as e:\n        # エラー応答\n        error_response = {\n            \"error\": str(e),\n            \"SeriesInstanceUID\": payload.get(\"SeriesInstanceUID\", \"unknown\")\n        }\n        print(json.dumps(error_response))\n        sys.stdout.flush()",
   "metadata": {},
   "execution_count": null,
   "outputs": []
  }
 ],
 "metadata": {
  "language_info": {
   "name": "python"
  }
 },
 "nbformat": 4,
 "nbformat_minor": 2
}