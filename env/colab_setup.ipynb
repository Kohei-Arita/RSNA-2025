{
  "cells": [
    {
      "cell_type": "code",
      "execution_count": null,
      "metadata": {},
      "outputs": [],
      "source": [
        "# Colab: ランタイム起動直後に一度だけ\n",
        "!pip -q install -U pip\n",
        "!pip -q install -r env/requirements.txt \"dvc[gcs]\"\n"
      ]
    },
    {
      "cell_type": "code",
      "execution_count": null,
      "metadata": {},
      "outputs": [],
      "source": [
        "from google.colab import auth\n",
        "auth.authenticate_user()  # ブラウザで認可\n",
        "print(\"✅ ADC 認証OK\")\n"
      ]
    },
    {
      "cell_type": "code",
      "execution_count": null,
      "metadata": {},
      "outputs": [],
      "source": [
        "from google.cloud import storage\n",
        "client = storage.Client()  # ADC を使う\n",
        "bucket_name = \"<YOUR_BUCKET_NAME>\"  # 例: rsna2025-<org>-prod\n",
        "bucket = client.bucket(bucket_name)\n",
        "print(\"✅ バケット存在:\", bucket.exists())\n"
      ]
    },
    {
      "cell_type": "code",
      "execution_count": null,
      "metadata": {},
      "outputs": [],
      "source": [
        "# 既に dvc.config.example がある前提。自分の環境ファイル dvc.config を作るならここで。\n",
        "\n",
        "# 例: リモートは README 記載のとおり gs://.../rsna2025 を既定に\n",
        "!cp -n dvc.config.example dvc.config || true\n",
        "!dvc remote list\n",
        "!dvc pull -q || echo \"（初回は DVC で管理されているファイルが無い/権限不足の場合があります）\"\n",
        "print(\"✅ DVC pull 実行完了（メッセージを確認）\")\n"
      ]
    }
  ],
  "metadata": {
    "language_info": {
      "name": "python"
    }
  },
  "nbformat": 4,
  "nbformat_minor": 2
}
