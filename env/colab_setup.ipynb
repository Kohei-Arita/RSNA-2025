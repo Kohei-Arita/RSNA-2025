{
  "cells": [
    {
      "cell_type": "code",
      "execution_count": null,
      "metadata": {},
      "outputs": [],
      "source": [
        "# 1) リポジトリを取ってワークディレクトリへ\n",
        "%cd /content\n",
        "!git clone https://github.com/Kohei-Arita/RSNA-2025.git\n",
        "%cd RSNA-2025\n",
        "\n",
        "# 念のため存在確認\n",
        "!ls -la env | head -n 20\n"
      ]
    },
    {
      "cell_type": "code",
      "execution_count": null,
      "metadata": {},
      "outputs": [],
      "source": [
        "# Colab: ランタイム起動直後に一度だけ\n",
        "!pip -q install -U pip\n",
        "!pip -q install -r env/requirements.txt \"dvc[gcs]\"\n"
      ]
    },
    {
      "cell_type": "code",
      "execution_count": null,
      "metadata": {},
      "outputs": [],
      "source": [
        "from google.colab import auth\n",
        "auth.authenticate_user()  # ブラウザで認可\n",
        "print(\"✅ ADC 認証OK\")\n"
      ]
    },
    {
      "cell_type": "code",
      "execution_count": null,
      "metadata": {},
      "outputs": [],
      "source": [
        "from google.cloud import storage\n",
        "client = storage.Client()  # ADC を使う\n",
        "bucket_name = \"<YOUR_BUCKET_NAME>\"  # 例: rsna2025-<org>-prod\n",
        "bucket = client.bucket(bucket_name)\n",
        "print(\"✅ バケット存在:\", bucket.exists())\n"
      ]
    },
    {
      "cell_type": "code",
      "execution_count": null,
      "metadata": {},
      "outputs": [],
      "source": [
        "# 既に dvc.config.example がある前提。自分の環境ファイル dvc.config を作るならここで。\n",
        "\n",
        "# 例: リモートは README 記載のとおり gs://.../rsna2025 を既定に\n",
        "!cp -n dvc.config.example dvc.config || true\n",
        "!dvc remote list\n",
        "!dvc pull -q || echo \"（初回は DVC で管理されているファイルが無い/権限不足の場合があります）\"\n",
        "print(\"✅ DVC pull 実行完了（メッセージを確認）\")\n"
      ]
    },
    {
      "cell_type": "code",
      "execution_count": null,
      "metadata": {},
      "outputs": [],
      "source": [
        "# 追加: GCS 権限チェック（ADC 認証での書き込み/読み取り/削除）\n",
        "# - ここでは `bucket_name` と `rsna2025` プレフィックス配下に小さなテストオブジェクトを書き込み/読み取り/削除します。\n",
        "# - すべて成功すれば、少なくとも Object Writer/Delete 相当の権限があることが確認できます。\n",
        "\n",
        "from datetime import datetime\n",
        "import uuid\n",
        "from google.cloud import storage\n",
        "\n",
        "client = storage.Client()  # ADC を利用\n",
        "bucket = client.bucket(bucket_name)\n",
        "\n",
        "prefix_root = \"rsna2025\"  # DVC リモートのルートに合わせる\n",
        "blob_path = f\"{prefix_root}/_perm_check/colab_{datetime.utcnow().strftime('%Y%m%dT%H%M%SZ')}_{uuid.uuid4().hex[:8]}.txt\"\n",
        "blob = bucket.blob(blob_path)\n",
        "\n",
        "try:\n",
        "    blob.upload_from_string(b\"perm_check\", content_type=\"text/plain\")\n",
        "    print(\"✅ GCS 書き込みOK:\", f\"gs://{bucket_name}/{blob_path}\")\n",
        "    text = blob.download_as_text()\n",
        "    print(\"✅ 読み取りOK:\", text)\n",
        "    blob.delete()\n",
        "    print(\"✅ 削除OK（Object Admin/Writer 相当の権限あり）\")\n",
        "except Exception as e:\n",
        "    print(\"❌ GCS 書き込み/読み取り/削除に失敗:\", e)\n",
        "\n"
      ]
    }
  ],
  "metadata": {
    "language_info": {
      "name": "python"
    }
  },
  "nbformat": 4,
  "nbformat_minor": 2
}
